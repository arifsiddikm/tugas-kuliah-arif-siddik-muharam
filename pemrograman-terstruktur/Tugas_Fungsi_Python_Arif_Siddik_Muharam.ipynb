{
  "nbformat": 4,
  "nbformat_minor": 0,
  "metadata": {
    "colab": {
      "provenance": []
    },
    "kernelspec": {
      "name": "python3",
      "display_name": "Python 3"
    },
    "language_info": {
      "name": "python"
    }
  },
  "cells": [
    {
      "cell_type": "markdown",
      "source": [
        "### **Tugas Pemrograman Terstruktur ( Fungsi Python )**\n",
        "### **Nama : Arif Siddik Muharam ( 22040003 )**\n",
        "### **Kelas : Teknik Informatika ( R2-1 )**"
      ],
      "metadata": {
        "id": "kmMkklrnGP68"
      }
    },
    {
      "cell_type": "markdown",
      "source": [
        "### **1. Fungsi Perkenalan Diri**"
      ],
      "metadata": {
        "id": "9_8yXqQnG4zZ"
      }
    },
    {
      "cell_type": "code",
      "source": [
        "def perkenalan_diri(nama, nim, kampus, jurusan):\n",
        "  print(\"Hallo dunia👋🏻.\\nPerkenalkan nama saya \"+nama+\" dengan NIM (\"+nim+\").\\nSaya berkuliah di \"+kampus+\" dan menempuh Jurusan \"+jurusan+\".\");\n",
        "  \n",
        "perkenalan_diri(\"Arif Siddik Muharam\",\"22040003\",\"Universitas Al-Khairiyah Cilegon\",\"Teknik Informatika\")"
      ],
      "metadata": {
        "colab": {
          "base_uri": "https://localhost:8080/"
        },
        "id": "bMQE7qETGNPS",
        "outputId": "e414dbe6-4272-4633-8cb7-c5c95472f787"
      },
      "execution_count": 39,
      "outputs": [
        {
          "output_type": "stream",
          "name": "stdout",
          "text": [
            "Hallo dunia👋🏻.\n",
            "Perkenalkan nama saya Arif Siddik Muharam dengan NIM (22040003).\n",
            "Saya berkuliah di Universitas Al-Khairiyah Cilegon dan mengambil Jurusan Teknik Informatika.\n"
          ]
        }
      ]
    },
    {
      "cell_type": "markdown",
      "source": [
        "### **2. Fungsi Penjumlahan**"
      ],
      "metadata": {
        "id": "opD5q7N-IKrZ"
      }
    },
    {
      "cell_type": "code",
      "source": [
        "def penjumlahan_bilangan(angka1, angka2):\n",
        "  hasil = int(angka1) + int(angka2);\n",
        "  print(\"Berikut hasil dari penjumlahan bilangan \"+angka1+\" + \"+angka2+\", hasilnya adalah \"+ str(hasil) +\".\");\n",
        "  \n",
        "penjumlahan_bilangan('80','15')"
      ],
      "metadata": {
        "colab": {
          "base_uri": "https://localhost:8080/"
        },
        "id": "fv9a002MIK5V",
        "outputId": "474b644c-e591-441a-b55b-c9be765eee42"
      },
      "execution_count": 38,
      "outputs": [
        {
          "output_type": "stream",
          "name": "stdout",
          "text": [
            "Berikut hasil dari penjumlahan bilangan 80 + 15, hasilnya adalah 95.\n"
          ]
        }
      ]
    },
    {
      "cell_type": "markdown",
      "source": [
        "### **3. Fungsi Generate Random Text**"
      ],
      "metadata": {
        "id": "-zsFTRYRI_uf"
      }
    },
    {
      "cell_type": "code",
      "source": [
        "def generate_teks_acak():\n",
        "  import string    \n",
        "  import random \n",
        "  S = 10 \n",
        "  acak = ''.join(random.choices(string.ascii_uppercase + string.digits, k = S))    \n",
        "  print(\"Berikut teks&angka acak : \" + str(acak))\n",
        "  \n",
        "generate_teks_acak()"
      ],
      "metadata": {
        "colab": {
          "base_uri": "https://localhost:8080/"
        },
        "id": "dCUfm9lvJbIT",
        "outputId": "a16a115b-cd4d-45ee-f5bb-62ba1342f917"
      },
      "execution_count": 37,
      "outputs": [
        {
          "output_type": "stream",
          "name": "stdout",
          "text": [
            "Berikut teks&angka acak : 97R1H0CQLB\n"
          ]
        }
      ]
    },
    {
      "cell_type": "markdown",
      "source": [
        "### **4. Fungsi Menentukan Kelulusan Mahasiswa**"
      ],
      "metadata": {
        "id": "IvHLaWAYL5wm"
      }
    },
    {
      "cell_type": "code",
      "source": [
        "def menentukan_kelulusan_mahasiswa(nama, nim, nilai):\n",
        "  if(int(nilai) > 80): \n",
        "    hasil = \"Lulus\"\n",
        "    status = \"Selamat, Anda Lulus Kuliah!\"\n",
        "  else: \n",
        "    hasil = \"Tidak Lulus\"\n",
        "    status = \"Maaf, Anda belum Lulus tahun ini!\"\n",
        "\n",
        "  print(status+\"\\n\\nRincian data kelulusan Mahasiswa sebagai berikut:\\nNama : \"+nama+\"\\nNIM : \"+nim+\"\\nHasil : \"+ hasil +\".\");\n",
        "menentukan_kelulusan_mahasiswa('Arif Siddik Muharam','22040003','100')"
      ],
      "metadata": {
        "colab": {
          "base_uri": "https://localhost:8080/"
        },
        "id": "MOuqcYoHL-si",
        "outputId": "b4b63244-4351-48f6-92b5-83c78d492294"
      },
      "execution_count": 36,
      "outputs": [
        {
          "output_type": "stream",
          "name": "stdout",
          "text": [
            "Selamat, Anda Lulus Kuliah!\n",
            "\n",
            "Rincian data kelulusan Mahasiswa sebagai berikut:\n",
            "Nama : Arif Siddik Muharam\n",
            "NIM : 22040003\n",
            "Hasilnya : Lulus.\n"
          ]
        }
      ]
    }
  ]
}